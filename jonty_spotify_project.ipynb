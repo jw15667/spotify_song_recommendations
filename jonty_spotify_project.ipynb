{
 "cells": [
  {
   "cell_type": "markdown",
   "metadata": {},
   "source": [
    "# Project Aim"
   ]
  },
  {
   "cell_type": "markdown",
   "metadata": {},
   "source": [
    "1. Create a database of all of my spotify playlists, by passing in my spotify user.\n",
    "2. Cluster all songs in my playlist: using optimal features and correct number of groups.\n",
    "3. Take an input of a song, tell me which playlist it should belong to. \n",
    "4. When I input a song, it tells me the song that is most like it in the playlist."
   ]
  },
  {
   "cell_type": "markdown",
   "metadata": {},
   "source": [
    "## Create Database of all Spoify Playlist Songs"
   ]
  },
  {
   "cell_type": "code",
   "execution_count": 1,
   "metadata": {},
   "outputs": [],
   "source": [
    "import spotipy\n",
    "import json\n",
    "from spotipy.oauth2 import SpotifyClientCredentials\n",
    "import sys\n",
    "sys.path.insert(1, \"C:/Users/jw156/Ironhack/Day26/Afternoon\")\n",
    "from config import *\n",
    "\n",
    "#Initialize SpotiPy with user credentias\n",
    "sp = spotipy.Spotify(auth_manager=SpotifyClientCredentials(client_id= client_id,\n",
    "                                                           client_secret= client_secret))"
   ]
  },
  {
   "cell_type": "markdown",
   "metadata": {},
   "source": [
    "#### Get all Spotify Playlists"
   ]
  },
  {
   "cell_type": "code",
   "execution_count": 30,
   "metadata": {},
   "outputs": [],
   "source": [
    "# Get all spotify playlists and save to list called playlist_uri"
   ]
  },
  {
   "cell_type": "code",
   "execution_count": 73,
   "metadata": {},
   "outputs": [],
   "source": [
    "def find_users_playlist(username):\n",
    "    playlists = sp.user_playlists(username)\n",
    "    playlist_uri = []\n",
    "    while playlists:\n",
    "        for i, playlist in enumerate(playlists['items']):\n",
    "            playlist_uri.append(playlist['uri'])\n",
    "        if playlists['next']:\n",
    "            playlists = sp.next(playlists)\n",
    "        else:\n",
    "            playlists = None\n",
    "    return playlist_uri"
   ]
  },
  {
   "cell_type": "code",
   "execution_count": 77,
   "metadata": {},
   "outputs": [],
   "source": [
    "my_list = find_users_playlist('1170594511')"
   ]
  },
  {
   "cell_type": "code",
   "execution_count": 108,
   "metadata": {},
   "outputs": [
    {
     "data": {
      "text/plain": [
       "['spotify:playlist:331hVGsw9i5Ac3GR1f9z6X',\n",
       " 'spotify:playlist:2xDrhBhEAKfZpMFP1zluHE',\n",
       " 'spotify:playlist:0KcGhQeT0nfqA0OhKDAFYo',\n",
       " 'spotify:playlist:7sgAA2PjYkJrQndifuUc2B',\n",
       " 'spotify:playlist:4Y9XlMgVb4jl1p8dWwlcCd',\n",
       " 'spotify:playlist:1wHNwupTm0eve8G8Qf6NcE',\n",
       " 'spotify:playlist:355VY7wO182brJ6cleRpKV',\n",
       " 'spotify:playlist:1nObPCYlBinVJIKhYaloDX']"
      ]
     },
     "execution_count": 108,
     "metadata": {},
     "output_type": "execute_result"
    }
   ],
   "source": [
    "my_list"
   ]
  },
  {
   "cell_type": "code",
   "execution_count": 33,
   "metadata": {},
   "outputs": [],
   "source": [
    "# For all songs in the playlist, get every track and save to list"
   ]
  },
  {
   "cell_type": "code",
   "execution_count": 169,
   "metadata": {},
   "outputs": [],
   "source": [
    "def get_audio_features_jonty(playlist_id):\n",
    "    features_dict = {}\n",
    "    for playlist in playlist_id:\n",
    "        results = sp.user_playlist_tracks(\"1170594511\",playlist)\n",
    "        tracks = results['items']\n",
    "        while results['next']:\n",
    "            results = sp.next(results)\n",
    "            tracks.extend(results['items'])\n",
    "        for track in tracks:\n",
    "            afeatures = sp.audio_features(track[\"track\"][\"uri\"])\n",
    "            features_dict[track['track']['name']] = afeatures\n",
    "    return features_dict"
   ]
  },
  {
   "cell_type": "code",
   "execution_count": 170,
   "metadata": {},
   "outputs": [],
   "source": [
    "# For all songs in the playlist, get every track's audio features, save it"
   ]
  },
  {
   "cell_type": "code",
   "execution_count": 171,
   "metadata": {},
   "outputs": [
    {
     "name": "stderr",
     "output_type": "stream",
     "text": [
      "Expected id of type track but found type KARASIK+-+PEACEFUL+DREAMS+%28JAZZHOP+-+BLUES+%26+HIP+HOP%29+%28320++kbps%29 spotify:local:::KARASIK+-+PEACEFUL+DREAMS+%28JAZZHOP+-+BLUES+%26+HIP+HOP%29+%28320++kbps%29:121\n"
     ]
    }
   ],
   "source": [
    "all_audio = get_audio_features_jonty(my_list)"
   ]
  },
  {
   "cell_type": "code",
   "execution_count": 204,
   "metadata": {},
   "outputs": [],
   "source": [
    "df_tunes = pd.json_normalize(all_audio['Poor Boy'])\n",
    "for song in all_audio.keys():\n",
    "    try:\n",
    "        x = pd.json_normalize(all_audio[song])\n",
    "        df_tunes = pd.concat([df_tunes, x], ignore_index=True)\n",
    "    except:\n",
    "        x = None"
   ]
  },
  {
   "cell_type": "code",
   "execution_count": 209,
   "metadata": {},
   "outputs": [],
   "source": [
    "#Reset the index on uri nad drop columns\n",
    "df_tunes = df_tunes.set_index(['id'])\n",
    "df_tunes = df_tunes.drop(['type', 'uri', 'track_href', 'analysis_url', 'time_signature'], axis=1)"
   ]
  },
  {
   "cell_type": "markdown",
   "metadata": {},
   "source": [
    "# Spotify audio features clustered"
   ]
  },
  {
   "cell_type": "code",
   "execution_count": 64,
   "metadata": {},
   "outputs": [],
   "source": [
    "import pandas as pd\n",
    "from sklearn import datasets\n",
    "from sklearn.preprocessing import StandardScaler\n",
    "from sklearn.cluster import KMeans\n",
    "from sklearn.metrics import silhouette_score"
   ]
  },
  {
   "cell_type": "code",
   "execution_count": 212,
   "metadata": {},
   "outputs": [],
   "source": [
    "import pickle\n",
    "import joblib"
   ]
  },
  {
   "cell_type": "markdown",
   "metadata": {},
   "source": [
    "### Skaler"
   ]
  },
  {
   "cell_type": "code",
   "execution_count": 221,
   "metadata": {},
   "outputs": [],
   "source": [
    "# Fit the scaler and save the scaler "
   ]
  },
  {
   "cell_type": "code",
   "execution_count": 210,
   "metadata": {},
   "outputs": [],
   "source": [
    "scaler = StandardScaler().fit(df_tunes)\n",
    "pickle.dump(scaler, open('scaler.pickle', 'wb'))"
   ]
  },
  {
   "cell_type": "code",
   "execution_count": 213,
   "metadata": {},
   "outputs": [],
   "source": [
    "# Fit the scaler to the dataframe"
   ]
  },
  {
   "cell_type": "code",
   "execution_count": 216,
   "metadata": {},
   "outputs": [],
   "source": [
    "X_prep = StandardScaler().fit_transform(df_tunes)"
   ]
  },
  {
   "cell_type": "code",
   "execution_count": 219,
   "metadata": {},
   "outputs": [],
   "source": [
    "#Check the dataframe"
   ]
  },
  {
   "cell_type": "code",
   "execution_count": 218,
   "metadata": {},
   "outputs": [
    {
     "data": {
      "text/html": [
       "<div>\n",
       "<style scoped>\n",
       "    .dataframe tbody tr th:only-of-type {\n",
       "        vertical-align: middle;\n",
       "    }\n",
       "\n",
       "    .dataframe tbody tr th {\n",
       "        vertical-align: top;\n",
       "    }\n",
       "\n",
       "    .dataframe thead th {\n",
       "        text-align: right;\n",
       "    }\n",
       "</style>\n",
       "<table border=\"1\" class=\"dataframe\">\n",
       "  <thead>\n",
       "    <tr style=\"text-align: right;\">\n",
       "      <th></th>\n",
       "      <th>danceability</th>\n",
       "      <th>energy</th>\n",
       "      <th>key</th>\n",
       "      <th>loudness</th>\n",
       "      <th>mode</th>\n",
       "      <th>speechiness</th>\n",
       "      <th>acousticness</th>\n",
       "      <th>instrumentalness</th>\n",
       "      <th>liveness</th>\n",
       "      <th>valence</th>\n",
       "      <th>tempo</th>\n",
       "      <th>duration_ms</th>\n",
       "    </tr>\n",
       "  </thead>\n",
       "  <tbody>\n",
       "    <tr>\n",
       "      <th>0</th>\n",
       "      <td>0.437034</td>\n",
       "      <td>-0.568717</td>\n",
       "      <td>1.019322</td>\n",
       "      <td>-0.463959</td>\n",
       "      <td>0.852214</td>\n",
       "      <td>-0.690469</td>\n",
       "      <td>1.060832</td>\n",
       "      <td>0.657532</td>\n",
       "      <td>0.967625</td>\n",
       "      <td>0.683090</td>\n",
       "      <td>-0.882741</td>\n",
       "      <td>0.018035</td>\n",
       "    </tr>\n",
       "    <tr>\n",
       "      <th>1</th>\n",
       "      <td>-2.110645</td>\n",
       "      <td>1.613258</td>\n",
       "      <td>1.581756</td>\n",
       "      <td>1.627947</td>\n",
       "      <td>-1.173414</td>\n",
       "      <td>-0.495660</td>\n",
       "      <td>-1.215312</td>\n",
       "      <td>-0.612361</td>\n",
       "      <td>-0.509003</td>\n",
       "      <td>-1.211286</td>\n",
       "      <td>-1.229496</td>\n",
       "      <td>2.582133</td>\n",
       "    </tr>\n",
       "    <tr>\n",
       "      <th>2</th>\n",
       "      <td>-0.580741</td>\n",
       "      <td>1.767734</td>\n",
       "      <td>0.456888</td>\n",
       "      <td>0.089685</td>\n",
       "      <td>0.852214</td>\n",
       "      <td>-0.045165</td>\n",
       "      <td>-1.208309</td>\n",
       "      <td>-0.596158</td>\n",
       "      <td>-0.740549</td>\n",
       "      <td>1.081905</td>\n",
       "      <td>-0.464997</td>\n",
       "      <td>-0.808610</td>\n",
       "    </tr>\n",
       "    <tr>\n",
       "      <th>3</th>\n",
       "      <td>-1.922648</td>\n",
       "      <td>1.120865</td>\n",
       "      <td>1.019322</td>\n",
       "      <td>1.072123</td>\n",
       "      <td>-1.173414</td>\n",
       "      <td>-0.601182</td>\n",
       "      <td>-1.215508</td>\n",
       "      <td>-0.612685</td>\n",
       "      <td>1.341981</td>\n",
       "      <td>-1.227903</td>\n",
       "      <td>-0.858036</td>\n",
       "      <td>0.397095</td>\n",
       "    </tr>\n",
       "    <tr>\n",
       "      <th>4</th>\n",
       "      <td>0.203659</td>\n",
       "      <td>0.551235</td>\n",
       "      <td>-0.949197</td>\n",
       "      <td>-0.203902</td>\n",
       "      <td>0.852214</td>\n",
       "      <td>-0.580889</td>\n",
       "      <td>-0.280260</td>\n",
       "      <td>2.126849</td>\n",
       "      <td>-0.509003</td>\n",
       "      <td>-1.916691</td>\n",
       "      <td>0.104740</td>\n",
       "      <td>1.721860</td>\n",
       "    </tr>\n",
       "    <tr>\n",
       "      <th>...</th>\n",
       "      <td>...</td>\n",
       "      <td>...</td>\n",
       "      <td>...</td>\n",
       "      <td>...</td>\n",
       "      <td>...</td>\n",
       "      <td>...</td>\n",
       "      <td>...</td>\n",
       "      <td>...</td>\n",
       "      <td>...</td>\n",
       "      <td>...</td>\n",
       "      <td>...</td>\n",
       "      <td>...</td>\n",
       "    </tr>\n",
       "    <tr>\n",
       "      <th>1559</th>\n",
       "      <td>0.715788</td>\n",
       "      <td>-1.466609</td>\n",
       "      <td>-1.511631</td>\n",
       "      <td>-2.246741</td>\n",
       "      <td>-1.173414</td>\n",
       "      <td>-0.093867</td>\n",
       "      <td>-0.879472</td>\n",
       "      <td>1.475926</td>\n",
       "      <td>-0.411947</td>\n",
       "      <td>1.734135</td>\n",
       "      <td>0.873492</td>\n",
       "      <td>1.174136</td>\n",
       "    </tr>\n",
       "    <tr>\n",
       "      <th>1560</th>\n",
       "      <td>0.437034</td>\n",
       "      <td>1.569811</td>\n",
       "      <td>1.019322</td>\n",
       "      <td>-0.257876</td>\n",
       "      <td>0.852214</td>\n",
       "      <td>-0.468265</td>\n",
       "      <td>-1.115035</td>\n",
       "      <td>0.685971</td>\n",
       "      <td>-0.961003</td>\n",
       "      <td>1.862920</td>\n",
       "      <td>0.009397</td>\n",
       "      <td>2.026479</td>\n",
       "    </tr>\n",
       "    <tr>\n",
       "      <th>1561</th>\n",
       "      <td>1.441844</td>\n",
       "      <td>0.802258</td>\n",
       "      <td>-0.386763</td>\n",
       "      <td>0.799526</td>\n",
       "      <td>-1.173414</td>\n",
       "      <td>-0.126335</td>\n",
       "      <td>-1.179712</td>\n",
       "      <td>-0.612440</td>\n",
       "      <td>-0.065321</td>\n",
       "      <td>1.260542</td>\n",
       "      <td>-0.285065</td>\n",
       "      <td>-0.323903</td>\n",
       "    </tr>\n",
       "    <tr>\n",
       "      <th>1562</th>\n",
       "      <td>0.968611</td>\n",
       "      <td>1.463609</td>\n",
       "      <td>-1.511631</td>\n",
       "      <td>1.070215</td>\n",
       "      <td>-1.173414</td>\n",
       "      <td>2.853632</td>\n",
       "      <td>-1.124229</td>\n",
       "      <td>-0.612533</td>\n",
       "      <td>0.704189</td>\n",
       "      <td>0.562614</td>\n",
       "      <td>0.456380</td>\n",
       "      <td>0.700457</td>\n",
       "    </tr>\n",
       "    <tr>\n",
       "      <th>1563</th>\n",
       "      <td>0.404621</td>\n",
       "      <td>1.299478</td>\n",
       "      <td>-1.230414</td>\n",
       "      <td>1.396785</td>\n",
       "      <td>0.852214</td>\n",
       "      <td>2.468072</td>\n",
       "      <td>-1.194962</td>\n",
       "      <td>-0.611240</td>\n",
       "      <td>0.510078</td>\n",
       "      <td>0.940658</td>\n",
       "      <td>0.450757</td>\n",
       "      <td>0.256750</td>\n",
       "    </tr>\n",
       "  </tbody>\n",
       "</table>\n",
       "<p>1564 rows × 12 columns</p>\n",
       "</div>"
      ],
      "text/plain": [
       "      danceability    energy       key  loudness      mode  speechiness  \\\n",
       "0         0.437034 -0.568717  1.019322 -0.463959  0.852214    -0.690469   \n",
       "1        -2.110645  1.613258  1.581756  1.627947 -1.173414    -0.495660   \n",
       "2        -0.580741  1.767734  0.456888  0.089685  0.852214    -0.045165   \n",
       "3        -1.922648  1.120865  1.019322  1.072123 -1.173414    -0.601182   \n",
       "4         0.203659  0.551235 -0.949197 -0.203902  0.852214    -0.580889   \n",
       "...            ...       ...       ...       ...       ...          ...   \n",
       "1559      0.715788 -1.466609 -1.511631 -2.246741 -1.173414    -0.093867   \n",
       "1560      0.437034  1.569811  1.019322 -0.257876  0.852214    -0.468265   \n",
       "1561      1.441844  0.802258 -0.386763  0.799526 -1.173414    -0.126335   \n",
       "1562      0.968611  1.463609 -1.511631  1.070215 -1.173414     2.853632   \n",
       "1563      0.404621  1.299478 -1.230414  1.396785  0.852214     2.468072   \n",
       "\n",
       "      acousticness  instrumentalness  liveness   valence     tempo  \\\n",
       "0         1.060832          0.657532  0.967625  0.683090 -0.882741   \n",
       "1        -1.215312         -0.612361 -0.509003 -1.211286 -1.229496   \n",
       "2        -1.208309         -0.596158 -0.740549  1.081905 -0.464997   \n",
       "3        -1.215508         -0.612685  1.341981 -1.227903 -0.858036   \n",
       "4        -0.280260          2.126849 -0.509003 -1.916691  0.104740   \n",
       "...            ...               ...       ...       ...       ...   \n",
       "1559     -0.879472          1.475926 -0.411947  1.734135  0.873492   \n",
       "1560     -1.115035          0.685971 -0.961003  1.862920  0.009397   \n",
       "1561     -1.179712         -0.612440 -0.065321  1.260542 -0.285065   \n",
       "1562     -1.124229         -0.612533  0.704189  0.562614  0.456380   \n",
       "1563     -1.194962         -0.611240  0.510078  0.940658  0.450757   \n",
       "\n",
       "      duration_ms  \n",
       "0        0.018035  \n",
       "1        2.582133  \n",
       "2       -0.808610  \n",
       "3        0.397095  \n",
       "4        1.721860  \n",
       "...           ...  \n",
       "1559     1.174136  \n",
       "1560     2.026479  \n",
       "1561    -0.323903  \n",
       "1562     0.700457  \n",
       "1563     0.256750  \n",
       "\n",
       "[1564 rows x 12 columns]"
      ]
     },
     "execution_count": 218,
     "metadata": {},
     "output_type": "execute_result"
    }
   ],
   "source": [
    "pd.DataFrame(X_prep, columns=df_tunes.columns)"
   ]
  },
  {
   "cell_type": "markdown",
   "metadata": {},
   "source": [
    "### Clustering with K-Means"
   ]
  },
  {
   "cell_type": "code",
   "execution_count": 222,
   "metadata": {},
   "outputs": [],
   "source": [
    "# Fit the K-means model"
   ]
  },
  {
   "cell_type": "code",
   "execution_count": 223,
   "metadata": {},
   "outputs": [
    {
     "data": {
      "text/plain": [
       "KMeans(n_clusters=4, random_state=1234)"
      ]
     },
     "execution_count": 223,
     "metadata": {},
     "output_type": "execute_result"
    }
   ],
   "source": [
    "model = KMeans(n_clusters=4, random_state=1234)\n",
    "model.fit(X_prep)"
   ]
  },
  {
   "cell_type": "code",
   "execution_count": 224,
   "metadata": {},
   "outputs": [],
   "source": [
    "# Save the model"
   ]
  },
  {
   "cell_type": "code",
   "execution_count": 225,
   "metadata": {},
   "outputs": [],
   "source": [
    "joblib.dump(model, 'model.pkl')  \n",
    "model_loaded = joblib.load('model.pkl')\n"
   ]
  },
  {
   "cell_type": "code",
   "execution_count": 226,
   "metadata": {},
   "outputs": [
    {
     "data": {
      "text/plain": [
       "0    270\n",
       "1    470\n",
       "2    633\n",
       "3    191\n",
       "dtype: int64"
      ]
     },
     "execution_count": 226,
     "metadata": {},
     "output_type": "execute_result"
    }
   ],
   "source": [
    "clusters = model.predict(X_prep)\n",
    "# print(clusters)\n",
    "pd.Series(clusters).value_counts().sort_index()"
   ]
  },
  {
   "cell_type": "code",
   "execution_count": 227,
   "metadata": {},
   "outputs": [
    {
     "data": {
      "text/html": [
       "<div>\n",
       "<style scoped>\n",
       "    .dataframe tbody tr th:only-of-type {\n",
       "        vertical-align: middle;\n",
       "    }\n",
       "\n",
       "    .dataframe tbody tr th {\n",
       "        vertical-align: top;\n",
       "    }\n",
       "\n",
       "    .dataframe thead th {\n",
       "        text-align: right;\n",
       "    }\n",
       "</style>\n",
       "<table border=\"1\" class=\"dataframe\">\n",
       "  <thead>\n",
       "    <tr style=\"text-align: right;\">\n",
       "      <th></th>\n",
       "      <th>0</th>\n",
       "      <th>1</th>\n",
       "      <th>2</th>\n",
       "      <th>3</th>\n",
       "      <th>4</th>\n",
       "      <th>5</th>\n",
       "      <th>6</th>\n",
       "      <th>7</th>\n",
       "      <th>8</th>\n",
       "      <th>9</th>\n",
       "      <th>10</th>\n",
       "      <th>11</th>\n",
       "      <th>cluster</th>\n",
       "    </tr>\n",
       "  </thead>\n",
       "  <tbody>\n",
       "    <tr>\n",
       "      <th>0</th>\n",
       "      <td>0.437034</td>\n",
       "      <td>-0.568717</td>\n",
       "      <td>1.019322</td>\n",
       "      <td>-0.463959</td>\n",
       "      <td>0.852214</td>\n",
       "      <td>-0.690469</td>\n",
       "      <td>1.060832</td>\n",
       "      <td>0.657532</td>\n",
       "      <td>0.967625</td>\n",
       "      <td>0.683090</td>\n",
       "      <td>-0.882741</td>\n",
       "      <td>0.018035</td>\n",
       "      <td>1</td>\n",
       "    </tr>\n",
       "    <tr>\n",
       "      <th>1</th>\n",
       "      <td>-2.110645</td>\n",
       "      <td>1.613258</td>\n",
       "      <td>1.581756</td>\n",
       "      <td>1.627947</td>\n",
       "      <td>-1.173414</td>\n",
       "      <td>-0.495660</td>\n",
       "      <td>-1.215312</td>\n",
       "      <td>-0.612361</td>\n",
       "      <td>-0.509003</td>\n",
       "      <td>-1.211286</td>\n",
       "      <td>-1.229496</td>\n",
       "      <td>2.582133</td>\n",
       "      <td>2</td>\n",
       "    </tr>\n",
       "    <tr>\n",
       "      <th>2</th>\n",
       "      <td>-0.580741</td>\n",
       "      <td>1.767734</td>\n",
       "      <td>0.456888</td>\n",
       "      <td>0.089685</td>\n",
       "      <td>0.852214</td>\n",
       "      <td>-0.045165</td>\n",
       "      <td>-1.208309</td>\n",
       "      <td>-0.596158</td>\n",
       "      <td>-0.740549</td>\n",
       "      <td>1.081905</td>\n",
       "      <td>-0.464997</td>\n",
       "      <td>-0.808610</td>\n",
       "      <td>2</td>\n",
       "    </tr>\n",
       "    <tr>\n",
       "      <th>3</th>\n",
       "      <td>-1.922648</td>\n",
       "      <td>1.120865</td>\n",
       "      <td>1.019322</td>\n",
       "      <td>1.072123</td>\n",
       "      <td>-1.173414</td>\n",
       "      <td>-0.601182</td>\n",
       "      <td>-1.215508</td>\n",
       "      <td>-0.612685</td>\n",
       "      <td>1.341981</td>\n",
       "      <td>-1.227903</td>\n",
       "      <td>-0.858036</td>\n",
       "      <td>0.397095</td>\n",
       "      <td>2</td>\n",
       "    </tr>\n",
       "    <tr>\n",
       "      <th>4</th>\n",
       "      <td>0.203659</td>\n",
       "      <td>0.551235</td>\n",
       "      <td>-0.949197</td>\n",
       "      <td>-0.203902</td>\n",
       "      <td>0.852214</td>\n",
       "      <td>-0.580889</td>\n",
       "      <td>-0.280260</td>\n",
       "      <td>2.126849</td>\n",
       "      <td>-0.509003</td>\n",
       "      <td>-1.916691</td>\n",
       "      <td>0.104740</td>\n",
       "      <td>1.721860</td>\n",
       "      <td>0</td>\n",
       "    </tr>\n",
       "  </tbody>\n",
       "</table>\n",
       "</div>"
      ],
      "text/plain": [
       "          0         1         2         3         4         5         6  \\\n",
       "0  0.437034 -0.568717  1.019322 -0.463959  0.852214 -0.690469  1.060832   \n",
       "1 -2.110645  1.613258  1.581756  1.627947 -1.173414 -0.495660 -1.215312   \n",
       "2 -0.580741  1.767734  0.456888  0.089685  0.852214 -0.045165 -1.208309   \n",
       "3 -1.922648  1.120865  1.019322  1.072123 -1.173414 -0.601182 -1.215508   \n",
       "4  0.203659  0.551235 -0.949197 -0.203902  0.852214 -0.580889 -0.280260   \n",
       "\n",
       "          7         8         9        10        11  cluster  \n",
       "0  0.657532  0.967625  0.683090 -0.882741  0.018035        1  \n",
       "1 -0.612361 -0.509003 -1.211286 -1.229496  2.582133        2  \n",
       "2 -0.596158 -0.740549  1.081905 -0.464997 -0.808610        2  \n",
       "3 -0.612685  1.341981 -1.227903 -0.858036  0.397095        2  \n",
       "4  2.126849 -0.509003 -1.916691  0.104740  1.721860        0  "
      ]
     },
     "execution_count": 227,
     "metadata": {},
     "output_type": "execute_result"
    }
   ],
   "source": [
    "X_df = pd.DataFrame(X_prep)\n",
    "X_df[\"cluster\"] = clusters\n",
    "# X_df['Song Name'] = names\n",
    "# X_df= X_df.set_index('Song Name')\n",
    "X_df.head()"
   ]
  },
  {
   "cell_type": "code",
   "execution_count": 228,
   "metadata": {},
   "outputs": [],
   "source": [
    "# Append cluster number to original dataframe"
   ]
  },
  {
   "cell_type": "code",
   "execution_count": 235,
   "metadata": {},
   "outputs": [],
   "source": [
    "clusters = X_df['cluster'].tolist()"
   ]
  },
  {
   "cell_type": "code",
   "execution_count": 237,
   "metadata": {},
   "outputs": [],
   "source": [
    "df_tunes['Cluster'] = clusters"
   ]
  },
  {
   "cell_type": "markdown",
   "metadata": {},
   "source": [
    "### Choosing K \n"
   ]
  },
  {
   "cell_type": "code",
   "execution_count": 239,
   "metadata": {},
   "outputs": [
    {
     "data": {
      "text/plain": [
       "Text(0.5, 1.0, 'Elbow Method showing the optimal k')"
      ]
     },
     "execution_count": 239,
     "metadata": {},
     "output_type": "execute_result"
    },
    {
     "data": {
      "image/png": "[encoded data removed]",
      "text/plain": [
       "<Figure size 1152x576 with 1 Axes>"
      ]
     },
     "metadata": {
      "needs_background": "light"
     },
     "output_type": "display_data"
    }
   ],
   "source": [
    "K = range(2, 20)\n",
    "inertia = []\n",
    "\n",
    "for k in K:\n",
    "    kmeans = KMeans(n_clusters=k,\n",
    "                    random_state=1234)\n",
    "    kmeans.fit(X_prep)\n",
    "    inertia.append(kmeans.inertia_)\n",
    "\n",
    "import numpy as np\n",
    "import matplotlib.pyplot as plt\n",
    "%matplotlib inline\n",
    "\n",
    "plt.figure(figsize=(16,8))\n",
    "plt.plot(K, inertia, 'bx-')\n",
    "plt.xlabel('k')\n",
    "plt.ylabel('inertia')\n",
    "plt.xticks(np.arange(min(K), max(K)+1, 1.0))\n",
    "plt.title('Elbow Method showing the optimal k')"
   ]
  },
  {
   "cell_type": "markdown",
   "metadata": {},
   "source": [
    "### Silouhette"
   ]
  },
  {
   "cell_type": "code",
   "execution_count": 240,
   "metadata": {},
   "outputs": [
    {
     "data": {
      "text/plain": [
       "Text(0.5, 1.0, 'Silhouette Method showing the optimal k')"
      ]
     },
     "execution_count": 240,
     "metadata": {},
     "output_type": "execute_result"
    },
    {
     "data": {
      "image/png": "[encoded data removed]",
      "text/plain": [
       "<Figure size 1152x576 with 1 Axes>"
      ]
     },
     "metadata": {
      "needs_background": "light"
     },
     "output_type": "display_data"
    }
   ],
   "source": [
    "K = range(2, 20)\n",
    "silhouette = []\n",
    "\n",
    "for k in K:\n",
    "    kmeans = KMeans(n_clusters=k,\n",
    "                    random_state=1234)\n",
    "    kmeans.fit(X_prep)\n",
    "    silhouette.append(silhouette_score(X_prep, kmeans.predict(X_prep)))\n",
    "\n",
    "\n",
    "plt.figure(figsize=(16,8))\n",
    "plt.plot(K, silhouette, 'bx-')\n",
    "plt.xlabel('k')\n",
    "plt.ylabel('silhouette score')\n",
    "plt.xticks(np.arange(min(K), max(K)+1, 1.0))\n",
    "plt.title('Silhouette Method showing the optimal k')"
   ]
  },
  {
   "cell_type": "markdown",
   "metadata": {},
   "source": [
    "# Passing in Song and Predicting \n"
   ]
  },
  {
   "cell_type": "code",
   "execution_count": 252,
   "metadata": {},
   "outputs": [],
   "source": [
    "def get_song_features(song_name):\n",
    "    results = sp.search(q=song_name, limit=50)\n",
    "    for singer in range(len(results[\"tracks\"][\"items\"])):\n",
    "        x = input(\"By this artist? {} \".format(results['tracks']['items'][singer]['artists'][0]['name'])).lower()\n",
    "        if x == 'yes':\n",
    "            features_find = results['tracks']['items'][singer]['uri']\n",
    "            song_features = sp.audio_features(features_find)\n",
    "            tunes = song_features[0]\n",
    "            drop_keys = ['type', 'uri', 'track_href', 'analysis_url', 'time_signature', 'id']\n",
    "            for key in drop_keys:\n",
    "                if key in tunes.keys():\n",
    "                    del tunes[key]\n",
    "            break\n",
    "        elif x != 'yes':\n",
    "            continue\n",
    "#     tunes['name'] = song_name\n",
    "    return tunes\n"
   ]
  },
  {
   "cell_type": "code",
   "execution_count": 242,
   "metadata": {},
   "outputs": [],
   "source": [
    "def scale_and_cluster(song):\n",
    "    df = pd.DataFrame(song, index = [0])\n",
    "    loaded_scaler = pickle.load(open('scaler.pickle', 'rb'))\n",
    "    trans_song = loaded_scaler.transform(df)\n",
    "    category = model_loaded.predict(trans_song)\n",
    "    return category"
   ]
  },
  {
   "cell_type": "code",
   "execution_count": 263,
   "metadata": {},
   "outputs": [],
   "source": [
    "def suggest_same_category_song(category):\n",
    "    clust_num = int(category)\n",
    "    sample_group = df_tunes.loc[df_tunes['Cluster']== clust_num]\n",
    "    suggest_song = sample_group.sample().index\n",
    "    results = sp.track(suggest_song[0])\n",
    "    artist=results[\"artists\"][0][\"name\"]\n",
    "    song_name=results[\"name\"]\n",
    "    return song_name, artist\n"
   ]
  },
  {
   "cell_type": "code",
   "execution_count": 254,
   "metadata": {},
   "outputs": [
    {
     "name": "stdout",
     "output_type": "stream",
     "text": [
      "By this artist? Taylor Swift yes\n"
     ]
    }
   ],
   "source": [
    "song = get_song_features('love')"
   ]
  },
  {
   "cell_type": "code",
   "execution_count": 255,
   "metadata": {},
   "outputs": [],
   "source": [
    "x = scale_and_cluster(song)"
   ]
  },
  {
   "cell_type": "code",
   "execution_count": 264,
   "metadata": {},
   "outputs": [
    {
     "data": {
      "text/plain": [
       "('Come On Home', 'Lijadu Sisters')"
      ]
     },
     "execution_count": 264,
     "metadata": {},
     "output_type": "execute_result"
    }
   ],
   "source": [
    "suggest_same_category_song(x)"
   ]
  },
  {
   "cell_type": "code",
   "execution_count": null,
   "metadata": {},
   "outputs": [],
   "source": []
  }
 ],
 "metadata": {
  "kernelspec": {
   "display_name": "Python 3",
   "language": "python",
   "name": "python3"
  },
  "language_info": {
   "codemirror_mode": {
    "name": "ipython",
    "version": 3
   },
   "file_extension": ".py",
   "mimetype": "text/x-python",
   "name": "python",
   "nbconvert_exporter": "python",
   "pygments_lexer": "ipython3",
   "version": "3.8.5"
  }
 },
 "nbformat": 4,
 "nbformat_minor": 4
}
